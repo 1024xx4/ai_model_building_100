{
 "cells": [
  {
   "cell_type": "markdown",
   "source": [
    "### Knock81: SHAP Model を構築してみよう\n",
    "SHAP は、学習済み Model において、各説明変数が予測値にどのような影響を与えたかを **「貢献度」**と定義して算出する。\n",
    "各 Data ごとに結果を出力して、可視化できる。"
   ],
   "metadata": {
    "collapsed": false
   }
  },
  {
   "cell_type": "code",
   "execution_count": 1,
   "outputs": [
    {
     "name": "stdout",
     "output_type": "stream",
     "text": [
      "354\n"
     ]
    },
    {
     "data": {
      "text/plain": "        CRIM   ZN  INDUS  CHAS    NOX     RM    AGE     DIS  RAD    TAX  \\\n141  1.62864  0.0  21.89   0.0  0.624  5.019  100.0  1.4394  4.0  437.0   \n\n     PTRATIO      B  LSTAT  \n141     21.2  396.9  34.41  ",
      "text/html": "<div>\n<style scoped>\n    .dataframe tbody tr th:only-of-type {\n        vertical-align: middle;\n    }\n\n    .dataframe tbody tr th {\n        vertical-align: top;\n    }\n\n    .dataframe thead th {\n        text-align: right;\n    }\n</style>\n<table border=\"1\" class=\"dataframe\">\n  <thead>\n    <tr style=\"text-align: right;\">\n      <th></th>\n      <th>CRIM</th>\n      <th>ZN</th>\n      <th>INDUS</th>\n      <th>CHAS</th>\n      <th>NOX</th>\n      <th>RM</th>\n      <th>AGE</th>\n      <th>DIS</th>\n      <th>RAD</th>\n      <th>TAX</th>\n      <th>PTRATIO</th>\n      <th>B</th>\n      <th>LSTAT</th>\n    </tr>\n  </thead>\n  <tbody>\n    <tr>\n      <th>141</th>\n      <td>1.62864</td>\n      <td>0.0</td>\n      <td>21.89</td>\n      <td>0.0</td>\n      <td>0.624</td>\n      <td>5.019</td>\n      <td>100.0</td>\n      <td>1.4394</td>\n      <td>4.0</td>\n      <td>437.0</td>\n      <td>21.2</td>\n      <td>396.9</td>\n      <td>34.41</td>\n    </tr>\n  </tbody>\n</table>\n</div>"
     },
     "metadata": {},
     "output_type": "display_data"
    },
    {
     "name": "stdout",
     "output_type": "stream",
     "text": [
      "152\n"
     ]
    },
    {
     "data": {
      "text/plain": "        CRIM   ZN  INDUS  CHAS   NOX     RM   AGE     DIS  RAD    TAX  \\\n329  0.06724  0.0   3.24   0.0  0.46  6.333  17.2  5.2146  4.0  430.0   \n\n     PTRATIO       B  LSTAT  \n329     16.9  375.21   7.34  ",
      "text/html": "<div>\n<style scoped>\n    .dataframe tbody tr th:only-of-type {\n        vertical-align: middle;\n    }\n\n    .dataframe tbody tr th {\n        vertical-align: top;\n    }\n\n    .dataframe thead th {\n        text-align: right;\n    }\n</style>\n<table border=\"1\" class=\"dataframe\">\n  <thead>\n    <tr style=\"text-align: right;\">\n      <th></th>\n      <th>CRIM</th>\n      <th>ZN</th>\n      <th>INDUS</th>\n      <th>CHAS</th>\n      <th>NOX</th>\n      <th>RM</th>\n      <th>AGE</th>\n      <th>DIS</th>\n      <th>RAD</th>\n      <th>TAX</th>\n      <th>PTRATIO</th>\n      <th>B</th>\n      <th>LSTAT</th>\n    </tr>\n  </thead>\n  <tbody>\n    <tr>\n      <th>329</th>\n      <td>0.06724</td>\n      <td>0.0</td>\n      <td>3.24</td>\n      <td>0.0</td>\n      <td>0.46</td>\n      <td>6.333</td>\n      <td>17.2</td>\n      <td>5.2146</td>\n      <td>4.0</td>\n      <td>430.0</td>\n      <td>16.9</td>\n      <td>375.21</td>\n      <td>7.34</td>\n    </tr>\n  </tbody>\n</table>\n</div>"
     },
     "metadata": {},
     "output_type": "display_data"
    }
   ],
   "source": [
    "# 回帰 Model の作成\n",
    "import pandas as pd\n",
    "from sklearn.datasets import load_boston\n",
    "from sklearn.model_selection import train_test_split\n",
    "from sklearn.tree import DecisionTreeRegressor\n",
    "\n",
    "boston = load_boston()\n",
    "df = pd.DataFrame(boston.data, columns=boston.feature_names)\n",
    "df['MEDV'] = boston.target\n",
    "X = df[boston.feature_names]\n",
    "y = df[['MEDV']]\n",
    "X_train, X_test, y_train, y_test = train_test_split(X, y, test_size=0.3, random_state=0)\n",
    "\n",
    "print(len(X_train))\n",
    "display(X_train.head(1))\n",
    "print(len(X_test))\n",
    "display(X_test.head(1))\n",
    "\n",
    "tree_reg = DecisionTreeRegressor(max_depth=3, random_state=0).fit(X_train, y_train)"
   ],
   "metadata": {
    "collapsed": false
   }
  },
  {
   "cell_type": "code",
   "execution_count": 2,
   "outputs": [
    {
     "data": {
      "text/plain": "<Figure size 600x600 with 1 Axes>",
      "image/png": "[encoded data removed]"
     },
     "metadata": {},
     "output_type": "display_data"
    }
   ],
   "source": [
    "# 説明変数ごとの重要度\n",
    "import matplotlib.pyplot as plt\n",
    "import numpy as np\n",
    "\n",
    "features = X_train.columns\n",
    "importances = tree_reg.feature_importances_  # 説明変数ごとの重要度を取得\n",
    "indices = np.argsort(importances)\n",
    "\n",
    "plt.figure(figsize=(6, 6))\n",
    "plt.barh(range(len(indices)), importances[indices], color='b', align='center')\n",
    "plt.yticks(range(len(indices)), features[indices])\n",
    "plt.show()"
   ],
   "metadata": {
    "collapsed": false
   }
  },
  {
   "cell_type": "code",
   "execution_count": 8,
   "outputs": [
    {
     "data": {
      "text/plain": "               RM       LSTAT        CRIM         DIS     PTRATIO        pred\ncount  152.000000  152.000000  152.000000  152.000000  152.000000  152.000000\nmean     6.229224   13.147763    4.207962    3.870929   18.413816   22.185592\nstd      0.703222    7.284263    9.154813    2.196886    2.025142    8.839852\nmin      3.863000    1.920000    0.013110    1.129600   12.600000   12.040000\n25%      5.878000    7.777500    0.093500    2.032100   16.975000   16.870000\n50%      6.157000   12.000000    0.229225    3.142300   18.700000   22.650000\n75%      6.514500   17.280000    4.950015    5.491700   20.200000   22.650000\nmax      8.725000   37.970000   73.534100   10.710300   21.200000   50.000000",
      "text/html": "<div>\n<style scoped>\n    .dataframe tbody tr th:only-of-type {\n        vertical-align: middle;\n    }\n\n    .dataframe tbody tr th {\n        vertical-align: top;\n    }\n\n    .dataframe thead th {\n        text-align: right;\n    }\n</style>\n<table border=\"1\" class=\"dataframe\">\n  <thead>\n    <tr style=\"text-align: right;\">\n      <th></th>\n      <th>RM</th>\n      <th>LSTAT</th>\n      <th>CRIM</th>\n      <th>DIS</th>\n      <th>PTRATIO</th>\n      <th>pred</th>\n    </tr>\n  </thead>\n  <tbody>\n    <tr>\n      <th>count</th>\n      <td>152.000000</td>\n      <td>152.000000</td>\n      <td>152.000000</td>\n      <td>152.000000</td>\n      <td>152.000000</td>\n      <td>152.000000</td>\n    </tr>\n    <tr>\n      <th>mean</th>\n      <td>6.229224</td>\n      <td>13.147763</td>\n      <td>4.207962</td>\n      <td>3.870929</td>\n      <td>18.413816</td>\n      <td>22.185592</td>\n    </tr>\n    <tr>\n      <th>std</th>\n      <td>0.703222</td>\n      <td>7.284263</td>\n      <td>9.154813</td>\n      <td>2.196886</td>\n      <td>2.025142</td>\n      <td>8.839852</td>\n    </tr>\n    <tr>\n      <th>min</th>\n      <td>3.863000</td>\n      <td>1.920000</td>\n      <td>0.013110</td>\n      <td>1.129600</td>\n      <td>12.600000</td>\n      <td>12.040000</td>\n    </tr>\n    <tr>\n      <th>25%</th>\n      <td>5.878000</td>\n      <td>7.777500</td>\n      <td>0.093500</td>\n      <td>2.032100</td>\n      <td>16.975000</td>\n      <td>16.870000</td>\n    </tr>\n    <tr>\n      <th>50%</th>\n      <td>6.157000</td>\n      <td>12.000000</td>\n      <td>0.229225</td>\n      <td>3.142300</td>\n      <td>18.700000</td>\n      <td>22.650000</td>\n    </tr>\n    <tr>\n      <th>75%</th>\n      <td>6.514500</td>\n      <td>17.280000</td>\n      <td>4.950015</td>\n      <td>5.491700</td>\n      <td>20.200000</td>\n      <td>22.650000</td>\n    </tr>\n    <tr>\n      <th>max</th>\n      <td>8.725000</td>\n      <td>37.970000</td>\n      <td>73.534100</td>\n      <td>10.710300</td>\n      <td>21.200000</td>\n      <td>50.000000</td>\n    </tr>\n  </tbody>\n</table>\n</div>"
     },
     "execution_count": 8,
     "metadata": {},
     "output_type": "execute_result"
    }
   ],
   "source": [
    "# 予測値の算出\n",
    "X_test_pred = X_test.copy()\n",
    "X_test_pred['pred'] = np.round(tree_reg.predict(X_test), 2)  # Test Data で予測値を算出し、結果を説明変数と merge\n",
    "X_test_pred.describe()[['RM', 'LSTAT', 'CRIM', 'DIS', 'PTRATIO', 'pred']]  # 重要度の高い説明変数の上位５項目と、予測値（pred）の統計値を表示"
   ],
   "metadata": {
    "collapsed": false
   }
  },
  {
   "cell_type": "code",
   "execution_count": 10,
   "outputs": [
    {
     "data": {
      "text/plain": "         CRIM    ZN  INDUS  CHAS    NOX     RM    AGE     DIS   RAD    TAX  \\\n367  13.52220   0.0  18.10   0.0  0.631  3.863  100.0  1.5106  24.0  666.0   \n374  18.49820   0.0  18.10   0.0  0.668  4.138  100.0  1.1370  24.0  666.0   \n386  24.39380   0.0  18.10   0.0  0.700  4.652  100.0  1.4672  24.0  666.0   \n144   2.77974   0.0  19.58   0.0  0.871  4.903   97.8  1.3459   5.0  403.0   \n366   3.69695   0.0  18.10   0.0  0.718  4.963   91.4  1.7523  24.0  666.0   \n..        ...   ...    ...   ...    ...    ...    ...     ...   ...    ...   \n97    0.12083   0.0   2.89   0.0  0.445  8.069   76.0  3.4952   2.0  276.0   \n233   0.33147   0.0   6.20   0.0  0.507  8.247   70.4  3.6519   8.0  307.0   \n253   0.36894  22.0   5.86   0.0  0.431  8.259    8.4  8.9067   7.0  330.0   \n224   0.31533   0.0   6.20   0.0  0.504  8.266   78.3  2.8944   8.0  307.0   \n225   0.52693   0.0   6.20   0.0  0.504  8.725   83.0  2.8944   8.0  307.0   \n\n     PTRATIO       B  LSTAT   pred  \n367     20.2  131.42  13.33  22.65  \n374     20.2  396.90  37.97  12.04  \n386     20.2  396.90  28.28  12.04  \n144     14.7  396.90  29.29  16.87  \n366     20.2  316.03  14.00  22.65  \n..       ...     ...    ...    ...  \n97      18.0  396.90   4.21  46.25  \n233     17.4  378.95   3.95  46.25  \n253     19.1  396.90   3.54  28.55  \n224     17.4  385.05   4.14  46.25  \n225     17.4  382.00   4.63  46.25  \n\n[152 rows x 14 columns]",
      "text/html": "<div>\n<style scoped>\n    .dataframe tbody tr th:only-of-type {\n        vertical-align: middle;\n    }\n\n    .dataframe tbody tr th {\n        vertical-align: top;\n    }\n\n    .dataframe thead th {\n        text-align: right;\n    }\n</style>\n<table border=\"1\" class=\"dataframe\">\n  <thead>\n    <tr style=\"text-align: right;\">\n      <th></th>\n      <th>CRIM</th>\n      <th>ZN</th>\n      <th>INDUS</th>\n      <th>CHAS</th>\n      <th>NOX</th>\n      <th>RM</th>\n      <th>AGE</th>\n      <th>DIS</th>\n      <th>RAD</th>\n      <th>TAX</th>\n      <th>PTRATIO</th>\n      <th>B</th>\n      <th>LSTAT</th>\n      <th>pred</th>\n    </tr>\n  </thead>\n  <tbody>\n    <tr>\n      <th>367</th>\n      <td>13.52220</td>\n      <td>0.0</td>\n      <td>18.10</td>\n      <td>0.0</td>\n      <td>0.631</td>\n      <td>3.863</td>\n      <td>100.0</td>\n      <td>1.5106</td>\n      <td>24.0</td>\n      <td>666.0</td>\n      <td>20.2</td>\n      <td>131.42</td>\n      <td>13.33</td>\n      <td>22.65</td>\n    </tr>\n    <tr>\n      <th>374</th>\n      <td>18.49820</td>\n      <td>0.0</td>\n      <td>18.10</td>\n      <td>0.0</td>\n      <td>0.668</td>\n      <td>4.138</td>\n      <td>100.0</td>\n      <td>1.1370</td>\n      <td>24.0</td>\n      <td>666.0</td>\n      <td>20.2</td>\n      <td>396.90</td>\n      <td>37.97</td>\n      <td>12.04</td>\n    </tr>\n    <tr>\n      <th>386</th>\n      <td>24.39380</td>\n      <td>0.0</td>\n      <td>18.10</td>\n      <td>0.0</td>\n      <td>0.700</td>\n      <td>4.652</td>\n      <td>100.0</td>\n      <td>1.4672</td>\n      <td>24.0</td>\n      <td>666.0</td>\n      <td>20.2</td>\n      <td>396.90</td>\n      <td>28.28</td>\n      <td>12.04</td>\n    </tr>\n    <tr>\n      <th>144</th>\n      <td>2.77974</td>\n      <td>0.0</td>\n      <td>19.58</td>\n      <td>0.0</td>\n      <td>0.871</td>\n      <td>4.903</td>\n      <td>97.8</td>\n      <td>1.3459</td>\n      <td>5.0</td>\n      <td>403.0</td>\n      <td>14.7</td>\n      <td>396.90</td>\n      <td>29.29</td>\n      <td>16.87</td>\n    </tr>\n    <tr>\n      <th>366</th>\n      <td>3.69695</td>\n      <td>0.0</td>\n      <td>18.10</td>\n      <td>0.0</td>\n      <td>0.718</td>\n      <td>4.963</td>\n      <td>91.4</td>\n      <td>1.7523</td>\n      <td>24.0</td>\n      <td>666.0</td>\n      <td>20.2</td>\n      <td>316.03</td>\n      <td>14.00</td>\n      <td>22.65</td>\n    </tr>\n    <tr>\n      <th>...</th>\n      <td>...</td>\n      <td>...</td>\n      <td>...</td>\n      <td>...</td>\n      <td>...</td>\n      <td>...</td>\n      <td>...</td>\n      <td>...</td>\n      <td>...</td>\n      <td>...</td>\n      <td>...</td>\n      <td>...</td>\n      <td>...</td>\n      <td>...</td>\n    </tr>\n    <tr>\n      <th>97</th>\n      <td>0.12083</td>\n      <td>0.0</td>\n      <td>2.89</td>\n      <td>0.0</td>\n      <td>0.445</td>\n      <td>8.069</td>\n      <td>76.0</td>\n      <td>3.4952</td>\n      <td>2.0</td>\n      <td>276.0</td>\n      <td>18.0</td>\n      <td>396.90</td>\n      <td>4.21</td>\n      <td>46.25</td>\n    </tr>\n    <tr>\n      <th>233</th>\n      <td>0.33147</td>\n      <td>0.0</td>\n      <td>6.20</td>\n      <td>0.0</td>\n      <td>0.507</td>\n      <td>8.247</td>\n      <td>70.4</td>\n      <td>3.6519</td>\n      <td>8.0</td>\n      <td>307.0</td>\n      <td>17.4</td>\n      <td>378.95</td>\n      <td>3.95</td>\n      <td>46.25</td>\n    </tr>\n    <tr>\n      <th>253</th>\n      <td>0.36894</td>\n      <td>22.0</td>\n      <td>5.86</td>\n      <td>0.0</td>\n      <td>0.431</td>\n      <td>8.259</td>\n      <td>8.4</td>\n      <td>8.9067</td>\n      <td>7.0</td>\n      <td>330.0</td>\n      <td>19.1</td>\n      <td>396.90</td>\n      <td>3.54</td>\n      <td>28.55</td>\n    </tr>\n    <tr>\n      <th>224</th>\n      <td>0.31533</td>\n      <td>0.0</td>\n      <td>6.20</td>\n      <td>0.0</td>\n      <td>0.504</td>\n      <td>8.266</td>\n      <td>78.3</td>\n      <td>2.8944</td>\n      <td>8.0</td>\n      <td>307.0</td>\n      <td>17.4</td>\n      <td>385.05</td>\n      <td>4.14</td>\n      <td>46.25</td>\n    </tr>\n    <tr>\n      <th>225</th>\n      <td>0.52693</td>\n      <td>0.0</td>\n      <td>6.20</td>\n      <td>0.0</td>\n      <td>0.504</td>\n      <td>8.725</td>\n      <td>83.0</td>\n      <td>2.8944</td>\n      <td>8.0</td>\n      <td>307.0</td>\n      <td>17.4</td>\n      <td>382.00</td>\n      <td>4.63</td>\n      <td>46.25</td>\n    </tr>\n  </tbody>\n</table>\n<p>152 rows × 14 columns</p>\n</div>"
     },
     "metadata": {},
     "output_type": "display_data"
    }
   ],
   "source": [
    "# 予測値の表示\n",
    "display(X_test_pred.sort_values('RM'))"
   ],
   "metadata": {
    "collapsed": false
   }
  },
  {
   "cell_type": "markdown",
   "source": [
    "`.feature_importances_` で予測結果を解釈しようとすると、推測での解釈になることが多く、Business の現場いおいて納得感が得られにくい場合がある。\n",
    "<br>\n",
    "<br>\n",
    "\n",
    "\n",
    "- `feature_importances_` は Model の作成中に、どの説明変数が重要であるかを知るための大域的な指標。\n",
    "- SHAP は、作成した Model の各説明変数が、どのように予測に寄与しているかを知るための局所的な指標。\n",
    "\n",
    "それぞれ、使う場面は分けて考える必要がある。"
   ],
   "metadata": {
    "collapsed": false
   }
  },
  {
   "cell_type": "code",
   "execution_count": null,
   "outputs": [],
   "source": [],
   "metadata": {
    "collapsed": false
   }
  }
 ],
 "metadata": {
  "kernelspec": {
   "display_name": "Python 3",
   "language": "python",
   "name": "python3"
  },
  "language_info": {
   "codemirror_mode": {
    "name": "ipython",
    "version": 2
   },
   "file_extension": ".py",
   "mimetype": "text/x-python",
   "name": "python",
   "nbconvert_exporter": "python",
   "pygments_lexer": "ipython2",
   "version": "2.7.6"
  }
 },
 "nbformat": 4,
 "nbformat_minor": 0
}
