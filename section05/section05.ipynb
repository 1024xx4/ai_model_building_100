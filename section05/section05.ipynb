{
 "cells": [
  {
   "cell_type": "markdown",
   "source": [
    "## 線形系回帰予測を行なう 10本 Knock"
   ],
   "metadata": {
    "collapsed": false
   }
  },
  {
   "cell_type": "markdown",
   "source": [
    "### Knock41: Data を加工しよう"
   ],
   "metadata": {
    "collapsed": false
   }
  },
  {
   "cell_type": "code",
   "execution_count": 2,
   "outputs": [
    {
     "data": {
      "text/plain": "      CRIM    ZN  INDUS  CHAS    NOX     RM   AGE     DIS  RAD    TAX  \\\n0  0.00632  18.0   2.31   0.0  0.538  6.575  65.2  4.0900  1.0  296.0   \n1  0.02731   0.0   7.07   0.0  0.469  6.421  78.9  4.9671  2.0  242.0   \n2  0.02729   0.0   7.07   0.0  0.469  7.185  61.1  4.9671  2.0  242.0   \n3  0.03237   0.0   2.18   0.0  0.458  6.998  45.8  6.0622  3.0  222.0   \n4  0.06905   0.0   2.18   0.0  0.458  7.147  54.2  6.0622  3.0  222.0   \n\n   PTRATIO       B  LSTAT  MEDV  \n0     15.3  396.90   4.98  24.0  \n1     17.8  396.90   9.14  21.6  \n2     17.8  392.83   4.03  34.7  \n3     18.7  394.63   2.94  33.4  \n4     18.7  396.90   5.33  36.2  ",
      "text/html": "<div>\n<style scoped>\n    .dataframe tbody tr th:only-of-type {\n        vertical-align: middle;\n    }\n\n    .dataframe tbody tr th {\n        vertical-align: top;\n    }\n\n    .dataframe thead th {\n        text-align: right;\n    }\n</style>\n<table border=\"1\" class=\"dataframe\">\n  <thead>\n    <tr style=\"text-align: right;\">\n      <th></th>\n      <th>CRIM</th>\n      <th>ZN</th>\n      <th>INDUS</th>\n      <th>CHAS</th>\n      <th>NOX</th>\n      <th>RM</th>\n      <th>AGE</th>\n      <th>DIS</th>\n      <th>RAD</th>\n      <th>TAX</th>\n      <th>PTRATIO</th>\n      <th>B</th>\n      <th>LSTAT</th>\n      <th>MEDV</th>\n    </tr>\n  </thead>\n  <tbody>\n    <tr>\n      <th>0</th>\n      <td>0.00632</td>\n      <td>18.0</td>\n      <td>2.31</td>\n      <td>0.0</td>\n      <td>0.538</td>\n      <td>6.575</td>\n      <td>65.2</td>\n      <td>4.0900</td>\n      <td>1.0</td>\n      <td>296.0</td>\n      <td>15.3</td>\n      <td>396.90</td>\n      <td>4.98</td>\n      <td>24.0</td>\n    </tr>\n    <tr>\n      <th>1</th>\n      <td>0.02731</td>\n      <td>0.0</td>\n      <td>7.07</td>\n      <td>0.0</td>\n      <td>0.469</td>\n      <td>6.421</td>\n      <td>78.9</td>\n      <td>4.9671</td>\n      <td>2.0</td>\n      <td>242.0</td>\n      <td>17.8</td>\n      <td>396.90</td>\n      <td>9.14</td>\n      <td>21.6</td>\n    </tr>\n    <tr>\n      <th>2</th>\n      <td>0.02729</td>\n      <td>0.0</td>\n      <td>7.07</td>\n      <td>0.0</td>\n      <td>0.469</td>\n      <td>7.185</td>\n      <td>61.1</td>\n      <td>4.9671</td>\n      <td>2.0</td>\n      <td>242.0</td>\n      <td>17.8</td>\n      <td>392.83</td>\n      <td>4.03</td>\n      <td>34.7</td>\n    </tr>\n    <tr>\n      <th>3</th>\n      <td>0.03237</td>\n      <td>0.0</td>\n      <td>2.18</td>\n      <td>0.0</td>\n      <td>0.458</td>\n      <td>6.998</td>\n      <td>45.8</td>\n      <td>6.0622</td>\n      <td>3.0</td>\n      <td>222.0</td>\n      <td>18.7</td>\n      <td>394.63</td>\n      <td>2.94</td>\n      <td>33.4</td>\n    </tr>\n    <tr>\n      <th>4</th>\n      <td>0.06905</td>\n      <td>0.0</td>\n      <td>2.18</td>\n      <td>0.0</td>\n      <td>0.458</td>\n      <td>7.147</td>\n      <td>54.2</td>\n      <td>6.0622</td>\n      <td>3.0</td>\n      <td>222.0</td>\n      <td>18.7</td>\n      <td>396.90</td>\n      <td>5.33</td>\n      <td>36.2</td>\n    </tr>\n  </tbody>\n</table>\n</div>"
     },
     "metadata": {},
     "output_type": "display_data"
    }
   ],
   "source": [
    "# Data の読み込み\n",
    "from sklearn.datasets import load_boston\n",
    "\n",
    "boston = load_boston()\n",
    "\n",
    "import pandas as pd\n",
    "\n",
    "df = pd.DataFrame(boston.data, columns=boston.feature_names)\n",
    "df['MEDV'] = boston.target\n",
    "\n",
    "from IPython.display import display\n",
    "\n",
    "display(df.head())"
   ],
   "metadata": {
    "collapsed": false
   }
  },
  {
   "cell_type": "code",
   "execution_count": 3,
   "outputs": [
    {
     "data": {
      "text/plain": "      CRIM    ZN  INDUS  CHAS    NOX     RM   AGE     DIS  RAD    TAX  \\\n0  0.00632  18.0   2.31   0.0  0.538  6.575  65.2  4.0900  1.0  296.0   \n1  0.02731   0.0   7.07   0.0  0.469  6.421  78.9  4.9671  2.0  242.0   \n2  0.02729   0.0   7.07   0.0  0.469  7.185  61.1  4.9671  2.0  242.0   \n3  0.03237   0.0   2.18   0.0  0.458  6.998  45.8  6.0622  3.0  222.0   \n4  0.06905   0.0   2.18   0.0  0.458  7.147  54.2  6.0622  3.0  222.0   \n\n   PTRATIO       B  LSTAT  \n0     15.3  396.90   4.98  \n1     17.8  396.90   9.14  \n2     17.8  392.83   4.03  \n3     18.7  394.63   2.94  \n4     18.7  396.90   5.33  ",
      "text/html": "<div>\n<style scoped>\n    .dataframe tbody tr th:only-of-type {\n        vertical-align: middle;\n    }\n\n    .dataframe tbody tr th {\n        vertical-align: top;\n    }\n\n    .dataframe thead th {\n        text-align: right;\n    }\n</style>\n<table border=\"1\" class=\"dataframe\">\n  <thead>\n    <tr style=\"text-align: right;\">\n      <th></th>\n      <th>CRIM</th>\n      <th>ZN</th>\n      <th>INDUS</th>\n      <th>CHAS</th>\n      <th>NOX</th>\n      <th>RM</th>\n      <th>AGE</th>\n      <th>DIS</th>\n      <th>RAD</th>\n      <th>TAX</th>\n      <th>PTRATIO</th>\n      <th>B</th>\n      <th>LSTAT</th>\n    </tr>\n  </thead>\n  <tbody>\n    <tr>\n      <th>0</th>\n      <td>0.00632</td>\n      <td>18.0</td>\n      <td>2.31</td>\n      <td>0.0</td>\n      <td>0.538</td>\n      <td>6.575</td>\n      <td>65.2</td>\n      <td>4.0900</td>\n      <td>1.0</td>\n      <td>296.0</td>\n      <td>15.3</td>\n      <td>396.90</td>\n      <td>4.98</td>\n    </tr>\n    <tr>\n      <th>1</th>\n      <td>0.02731</td>\n      <td>0.0</td>\n      <td>7.07</td>\n      <td>0.0</td>\n      <td>0.469</td>\n      <td>6.421</td>\n      <td>78.9</td>\n      <td>4.9671</td>\n      <td>2.0</td>\n      <td>242.0</td>\n      <td>17.8</td>\n      <td>396.90</td>\n      <td>9.14</td>\n    </tr>\n    <tr>\n      <th>2</th>\n      <td>0.02729</td>\n      <td>0.0</td>\n      <td>7.07</td>\n      <td>0.0</td>\n      <td>0.469</td>\n      <td>7.185</td>\n      <td>61.1</td>\n      <td>4.9671</td>\n      <td>2.0</td>\n      <td>242.0</td>\n      <td>17.8</td>\n      <td>392.83</td>\n      <td>4.03</td>\n    </tr>\n    <tr>\n      <th>3</th>\n      <td>0.03237</td>\n      <td>0.0</td>\n      <td>2.18</td>\n      <td>0.0</td>\n      <td>0.458</td>\n      <td>6.998</td>\n      <td>45.8</td>\n      <td>6.0622</td>\n      <td>3.0</td>\n      <td>222.0</td>\n      <td>18.7</td>\n      <td>394.63</td>\n      <td>2.94</td>\n    </tr>\n    <tr>\n      <th>4</th>\n      <td>0.06905</td>\n      <td>0.0</td>\n      <td>2.18</td>\n      <td>0.0</td>\n      <td>0.458</td>\n      <td>7.147</td>\n      <td>54.2</td>\n      <td>6.0622</td>\n      <td>3.0</td>\n      <td>222.0</td>\n      <td>18.7</td>\n      <td>396.90</td>\n      <td>5.33</td>\n    </tr>\n  </tbody>\n</table>\n</div>"
     },
     "metadata": {},
     "output_type": "display_data"
    },
    {
     "data": {
      "text/plain": "   MEDV\n0  24.0\n1  21.6\n2  34.7\n3  33.4\n4  36.2",
      "text/html": "<div>\n<style scoped>\n    .dataframe tbody tr th:only-of-type {\n        vertical-align: middle;\n    }\n\n    .dataframe tbody tr th {\n        vertical-align: top;\n    }\n\n    .dataframe thead th {\n        text-align: right;\n    }\n</style>\n<table border=\"1\" class=\"dataframe\">\n  <thead>\n    <tr style=\"text-align: right;\">\n      <th></th>\n      <th>MEDV</th>\n    </tr>\n  </thead>\n  <tbody>\n    <tr>\n      <th>0</th>\n      <td>24.0</td>\n    </tr>\n    <tr>\n      <th>1</th>\n      <td>21.6</td>\n    </tr>\n    <tr>\n      <th>2</th>\n      <td>34.7</td>\n    </tr>\n    <tr>\n      <th>3</th>\n      <td>33.4</td>\n    </tr>\n    <tr>\n      <th>4</th>\n      <td>36.2</td>\n    </tr>\n  </tbody>\n</table>\n</div>"
     },
     "metadata": {},
     "output_type": "display_data"
    }
   ],
   "source": [
    "# 説明変数・目的変数の分割\n",
    "\n",
    "X = df[boston.feature_names[:13]]\n",
    "y = df[['MEDV']]\n",
    "\n",
    "display(X.head())\n",
    "display(y.head())"
   ],
   "metadata": {
    "collapsed": false
   }
  },
  {
   "cell_type": "code",
   "execution_count": 4,
   "outputs": [
    {
     "name": "stdout",
     "output_type": "stream",
     "text": [
      "354\n"
     ]
    },
    {
     "data": {
      "text/plain": "        CRIM    ZN  INDUS  CHAS    NOX     RM    AGE     DIS  RAD    TAX  \\\n141  1.62864   0.0  21.89   0.0  0.624  5.019  100.0  1.4394  4.0  437.0   \n272  0.11460  20.0   6.96   0.0  0.464  6.538   58.7  3.9175  3.0  223.0   \n135  0.55778   0.0  21.89   0.0  0.624  6.335   98.2  2.1107  4.0  437.0   \n298  0.06466  70.0   2.24   0.0  0.400  6.345   20.1  7.8278  5.0  358.0   \n122  0.09299   0.0  25.65   0.0  0.581  5.961   92.9  2.0869  2.0  188.0   \n\n     PTRATIO       B  LSTAT  \n141     21.2  396.90  34.41  \n272     18.6  394.96   7.73  \n135     21.2  394.67  16.96  \n298     14.8  368.24   4.97  \n122     19.1  378.09  17.93  ",
      "text/html": "<div>\n<style scoped>\n    .dataframe tbody tr th:only-of-type {\n        vertical-align: middle;\n    }\n\n    .dataframe tbody tr th {\n        vertical-align: top;\n    }\n\n    .dataframe thead th {\n        text-align: right;\n    }\n</style>\n<table border=\"1\" class=\"dataframe\">\n  <thead>\n    <tr style=\"text-align: right;\">\n      <th></th>\n      <th>CRIM</th>\n      <th>ZN</th>\n      <th>INDUS</th>\n      <th>CHAS</th>\n      <th>NOX</th>\n      <th>RM</th>\n      <th>AGE</th>\n      <th>DIS</th>\n      <th>RAD</th>\n      <th>TAX</th>\n      <th>PTRATIO</th>\n      <th>B</th>\n      <th>LSTAT</th>\n    </tr>\n  </thead>\n  <tbody>\n    <tr>\n      <th>141</th>\n      <td>1.62864</td>\n      <td>0.0</td>\n      <td>21.89</td>\n      <td>0.0</td>\n      <td>0.624</td>\n      <td>5.019</td>\n      <td>100.0</td>\n      <td>1.4394</td>\n      <td>4.0</td>\n      <td>437.0</td>\n      <td>21.2</td>\n      <td>396.90</td>\n      <td>34.41</td>\n    </tr>\n    <tr>\n      <th>272</th>\n      <td>0.11460</td>\n      <td>20.0</td>\n      <td>6.96</td>\n      <td>0.0</td>\n      <td>0.464</td>\n      <td>6.538</td>\n      <td>58.7</td>\n      <td>3.9175</td>\n      <td>3.0</td>\n      <td>223.0</td>\n      <td>18.6</td>\n      <td>394.96</td>\n      <td>7.73</td>\n    </tr>\n    <tr>\n      <th>135</th>\n      <td>0.55778</td>\n      <td>0.0</td>\n      <td>21.89</td>\n      <td>0.0</td>\n      <td>0.624</td>\n      <td>6.335</td>\n      <td>98.2</td>\n      <td>2.1107</td>\n      <td>4.0</td>\n      <td>437.0</td>\n      <td>21.2</td>\n      <td>394.67</td>\n      <td>16.96</td>\n    </tr>\n    <tr>\n      <th>298</th>\n      <td>0.06466</td>\n      <td>70.0</td>\n      <td>2.24</td>\n      <td>0.0</td>\n      <td>0.400</td>\n      <td>6.345</td>\n      <td>20.1</td>\n      <td>7.8278</td>\n      <td>5.0</td>\n      <td>358.0</td>\n      <td>14.8</td>\n      <td>368.24</td>\n      <td>4.97</td>\n    </tr>\n    <tr>\n      <th>122</th>\n      <td>0.09299</td>\n      <td>0.0</td>\n      <td>25.65</td>\n      <td>0.0</td>\n      <td>0.581</td>\n      <td>5.961</td>\n      <td>92.9</td>\n      <td>2.0869</td>\n      <td>2.0</td>\n      <td>188.0</td>\n      <td>19.1</td>\n      <td>378.09</td>\n      <td>17.93</td>\n    </tr>\n  </tbody>\n</table>\n</div>"
     },
     "metadata": {},
     "output_type": "display_data"
    },
    {
     "name": "stdout",
     "output_type": "stream",
     "text": [
      "152\n"
     ]
    },
    {
     "data": {
      "text/plain": "         CRIM   ZN  INDUS  CHAS    NOX     RM    AGE     DIS   RAD    TAX  \\\n329   0.06724  0.0   3.24   0.0  0.460  6.333   17.2  5.2146   4.0  430.0   \n371   9.23230  0.0  18.10   0.0  0.631  6.216  100.0  1.1691  24.0  666.0   \n219   0.11425  0.0  13.89   1.0  0.550  6.373   92.4  3.3633   5.0  276.0   \n403  24.80170  0.0  18.10   0.0  0.693  5.349   96.0  1.7028  24.0  666.0   \n78    0.05646  0.0  12.83   0.0  0.437  6.232   53.7  5.0141   5.0  398.0   \n\n     PTRATIO       B  LSTAT  \n329     16.9  375.21   7.34  \n371     20.2  366.15   9.53  \n219     16.4  393.74  10.50  \n403     20.2  396.90  19.77  \n78      18.7  386.40  12.34  ",
      "text/html": "<div>\n<style scoped>\n    .dataframe tbody tr th:only-of-type {\n        vertical-align: middle;\n    }\n\n    .dataframe tbody tr th {\n        vertical-align: top;\n    }\n\n    .dataframe thead th {\n        text-align: right;\n    }\n</style>\n<table border=\"1\" class=\"dataframe\">\n  <thead>\n    <tr style=\"text-align: right;\">\n      <th></th>\n      <th>CRIM</th>\n      <th>ZN</th>\n      <th>INDUS</th>\n      <th>CHAS</th>\n      <th>NOX</th>\n      <th>RM</th>\n      <th>AGE</th>\n      <th>DIS</th>\n      <th>RAD</th>\n      <th>TAX</th>\n      <th>PTRATIO</th>\n      <th>B</th>\n      <th>LSTAT</th>\n    </tr>\n  </thead>\n  <tbody>\n    <tr>\n      <th>329</th>\n      <td>0.06724</td>\n      <td>0.0</td>\n      <td>3.24</td>\n      <td>0.0</td>\n      <td>0.460</td>\n      <td>6.333</td>\n      <td>17.2</td>\n      <td>5.2146</td>\n      <td>4.0</td>\n      <td>430.0</td>\n      <td>16.9</td>\n      <td>375.21</td>\n      <td>7.34</td>\n    </tr>\n    <tr>\n      <th>371</th>\n      <td>9.23230</td>\n      <td>0.0</td>\n      <td>18.10</td>\n      <td>0.0</td>\n      <td>0.631</td>\n      <td>6.216</td>\n      <td>100.0</td>\n      <td>1.1691</td>\n      <td>24.0</td>\n      <td>666.0</td>\n      <td>20.2</td>\n      <td>366.15</td>\n      <td>9.53</td>\n    </tr>\n    <tr>\n      <th>219</th>\n      <td>0.11425</td>\n      <td>0.0</td>\n      <td>13.89</td>\n      <td>1.0</td>\n      <td>0.550</td>\n      <td>6.373</td>\n      <td>92.4</td>\n      <td>3.3633</td>\n      <td>5.0</td>\n      <td>276.0</td>\n      <td>16.4</td>\n      <td>393.74</td>\n      <td>10.50</td>\n    </tr>\n    <tr>\n      <th>403</th>\n      <td>24.80170</td>\n      <td>0.0</td>\n      <td>18.10</td>\n      <td>0.0</td>\n      <td>0.693</td>\n      <td>5.349</td>\n      <td>96.0</td>\n      <td>1.7028</td>\n      <td>24.0</td>\n      <td>666.0</td>\n      <td>20.2</td>\n      <td>396.90</td>\n      <td>19.77</td>\n    </tr>\n    <tr>\n      <th>78</th>\n      <td>0.05646</td>\n      <td>0.0</td>\n      <td>12.83</td>\n      <td>0.0</td>\n      <td>0.437</td>\n      <td>6.232</td>\n      <td>53.7</td>\n      <td>5.0141</td>\n      <td>5.0</td>\n      <td>398.0</td>\n      <td>18.7</td>\n      <td>386.40</td>\n      <td>12.34</td>\n    </tr>\n  </tbody>\n</table>\n</div>"
     },
     "metadata": {},
     "output_type": "display_data"
    }
   ],
   "source": [
    "# 訓練 Data・Test data の分割\n",
    "from sklearn.model_selection import train_test_split\n",
    "\n",
    "X_train, X_test, y_train, y_test = train_test_split(X, y, test_size=0.3, random_state=0)\n",
    "\n",
    "print(len(X_train))\n",
    "display(X_train.head())\n",
    "print(len(X_test))\n",
    "display(X_test.head())"
   ],
   "metadata": {
    "collapsed": false
   }
  },
  {
   "cell_type": "markdown",
   "source": [
    "### Knock42: Data を Scaling しよう\n",
    "#### Data の Scaling\n",
    "複数の説明変数間での Data の尺度を揃えること。重回帰のような複数の説明変数を扱う線形系の Algorithm は、Data の尺度による影響が大きいため、正しく学習させるためには Data の Scaling が必要になる\n",
    "\n",
    "##### Scaling の主な手法２つ\n",
    "| 名称  | 概要                                    | 有効な Data 分布 |\n",
    "|-----|---------------------------------------|-------------|\n",
    "| 標準化 | 説明変数の平均が 0, 標準偏差が 1 になるように Scaling する | 正規分布        |\n",
    "| 正規化 | 説明変数の値が 0 ~ 1 の範囲に収まるように Scaling する   | 一様分布        |\n",
    "- 正規分布でも一様分布でもない場合などは、Robust Z-score という手法が用いられることもある。\n",
    "- Scaling に正解はなく Model 精度と組み合わせていく。"
   ],
   "metadata": {
    "collapsed": false
   }
  },
  {
   "cell_type": "code",
   "execution_count": 5,
   "outputs": [
    {
     "name": "stdout",
     "output_type": "stream",
     "text": [
      "[[-0.20735619 -0.49997924  1.54801583 -0.26360274  0.58821309 -1.83936729\n",
      "   1.10740225 -1.1251102  -0.61816013  0.20673466  1.2272573   0.42454294\n",
      "   3.10807269]\n",
      " [-0.38886492  0.34677427 -0.58974728 -0.26360274 -0.79782145  0.32748658\n",
      "  -0.36766106  0.07509    -0.73363701 -1.04949303  0.05696346  0.40185312\n",
      "  -0.66643035]\n",
      " [-0.33573486 -0.49997924  1.54801583 -0.26360274  0.58821309  0.03790703\n",
      "   1.04311378 -0.79998434 -0.61816013  0.20673466  1.2272573   0.39846135\n",
      "   0.63936662]]\n",
      "[[-0.45379523 -0.45888196 -1.2285158  -0.29277002 -0.7850976   0.14806054\n",
      "  -1.7758721   0.61364717 -0.68477673  0.04137254 -0.74998219  0.26955997\n",
      "  -0.79993845]\n",
      " [ 0.55063352 -0.45888196  1.04438686 -0.29277002  0.68330592 -0.0188666\n",
      "   1.14170823 -1.23391041  1.59531227  1.49212109  0.88492032  0.18133643\n",
      "  -0.49829647]\n",
      " [-0.44864325 -0.45888196  0.40044876  3.41565026 -0.01225364  0.20512964\n",
      "   0.873911   -0.23183135 -0.57077228 -0.90530236 -0.99769469  0.4499995\n",
      "  -0.36469248]]\n"
     ]
    }
   ],
   "source": [
    "from sklearn.preprocessing import StandardScaler\n",
    "\n",
    "scaler = StandardScaler()\n",
    "\n",
    "X_train_scaled = scaler.fit_transform(X_train)\n",
    "X_test_scaled = scaler.fit_transform(X_test)\n",
    "\n",
    "print(X_train_scaled[:3])\n",
    "print(X_test_scaled[:3])"
   ],
   "metadata": {
    "collapsed": false
   }
  },
  {
   "cell_type": "markdown",
   "source": [
    "### Knock43: 重回帰 Model を構築しよう\n",
    "#### 重回帰\n",
    "複数の説明変数を用いて１つの目的変数を予測する Algorithm"
   ],
   "metadata": {
    "collapsed": false
   }
  },
  {
   "cell_type": "code",
   "execution_count": 6,
   "outputs": [],
   "source": [
    "# 重会議 Model の構築\n",
    "from sklearn.linear_model import LinearRegression\n",
    "\n",
    "multi_reg = LinearRegression().fit(X_train_scaled, y_train)"
   ],
   "metadata": {
    "collapsed": false
   }
  },
  {
   "cell_type": "code",
   "execution_count": 7,
   "outputs": [
    {
     "name": "stdout",
     "output_type": "stream",
     "text": [
      "354\n",
      "[[ 4.58009023]\n",
      " [28.38354012]\n",
      " [17.27775551]\n",
      " [29.39070404]\n",
      " [20.54476971]]\n",
      "354\n",
      "[[ 4.58009023]\n",
      " [28.38354012]\n",
      " [17.27775551]\n",
      " [29.39070404]\n",
      " [20.54476971]]\n"
     ]
    }
   ],
   "source": [
    "# 予測値の算出\n",
    "y_train_pred = multi_reg.predict(X_train_scaled)\n",
    "y_test_pred = multi_reg.predict(X_train_scaled)\n",
    "\n",
    "print(len(y_train_pred))\n",
    "print(y_train_pred[:5])\n",
    "print(len(y_test_pred))\n",
    "print(y_test_pred[:5])"
   ],
   "metadata": {
    "collapsed": false
   }
  },
  {
   "cell_type": "code",
   "execution_count": null,
   "outputs": [],
   "source": [],
   "metadata": {
    "collapsed": false
   }
  }
 ],
 "metadata": {
  "kernelspec": {
   "display_name": "Python 3",
   "language": "python",
   "name": "python3"
  },
  "language_info": {
   "codemirror_mode": {
    "name": "ipython",
    "version": 2
   },
   "file_extension": ".py",
   "mimetype": "text/x-python",
   "name": "python",
   "nbconvert_exporter": "python",
   "pygments_lexer": "ipython2",
   "version": "2.7.6"
  }
 },
 "nbformat": 4,
 "nbformat_minor": 0
}
