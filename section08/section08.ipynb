{
 "cells": [
  {
   "cell_type": "markdown",
   "source": [
    "# Knock71: 評価対象の Model を用意しよう"
   ],
   "metadata": {
    "collapsed": false
   }
  },
  {
   "cell_type": "code",
   "execution_count": 1,
   "outputs": [],
   "source": [
    "# Data の読み込み\n",
    "from sklearn.datasets import load_breast_cancer\n",
    "\n",
    "load_data = load_breast_cancer()\n",
    "\n",
    "import pandas as pd\n",
    "\n",
    "df = pd.DataFrame(load_data.data, columns=load_data.feature_names)\n",
    "df['y'] = load_data.target"
   ],
   "metadata": {
    "collapsed": false
   }
  },
  {
   "cell_type": "code",
   "execution_count": 4,
   "outputs": [
    {
     "name": "stdout",
     "output_type": "stream",
     "text": [
      "171\n"
     ]
    }
   ],
   "source": [
    "# Data の分割\n",
    "from sklearn.model_selection import train_test_split\n",
    "\n",
    "X = df[['mean radius', 'mean texture']]\n",
    "y = df['y']\n",
    "X_train, X_test, y_train, y_test = train_test_split(X, y, test_size=0.3, random_state=0)\n",
    "\n",
    "print(len(X_test))"
   ],
   "metadata": {
    "collapsed": false
   }
  },
  {
   "cell_type": "code",
   "execution_count": 5,
   "outputs": [],
   "source": [
    "# Random-Forest の構築および予測値の算出\n",
    "from sklearn.ensemble import RandomForestClassifier\n",
    "\n",
    "rf_cls = RandomForestClassifier(max_depth=3, random_state=0).fit(X_train, y_train)\n",
    "\n",
    "y_train_pred = rf_cls.predict(X_train)\n",
    "y_test_pred = rf_cls.predict(X_test)"
   ],
   "metadata": {
    "collapsed": false
   }
  },
  {
   "cell_type": "code",
   "execution_count": null,
   "outputs": [],
   "source": [],
   "metadata": {
    "collapsed": false
   }
  }
 ],
 "metadata": {
  "kernelspec": {
   "display_name": "Python 3",
   "language": "python",
   "name": "python3"
  },
  "language_info": {
   "codemirror_mode": {
    "name": "ipython",
    "version": 2
   },
   "file_extension": ".py",
   "mimetype": "text/x-python",
   "name": "python",
   "nbconvert_exporter": "python",
   "pygments_lexer": "ipython2",
   "version": "2.7.6"
  }
 },
 "nbformat": 4,
 "nbformat_minor": 0
}
