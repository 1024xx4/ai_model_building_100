{
 "cells": [
  {
   "cell_type": "markdown",
   "source": [
    "# Knock71: 評価対象の Model を用意しよう"
   ],
   "metadata": {
    "collapsed": false
   }
  },
  {
   "cell_type": "code",
   "execution_count": 2,
   "outputs": [],
   "source": [
    "# Data の読み込み\n",
    "from sklearn.datasets import load_breast_cancer\n",
    "\n",
    "load_data = load_breast_cancer()\n",
    "\n",
    "import pandas as pd\n",
    "\n",
    "df = pd.DataFrame(load_data.data, columns=load_data.feature_names)\n",
    "df['y'] = load_data.target"
   ],
   "metadata": {
    "collapsed": false
   }
  },
  {
   "cell_type": "code",
   "execution_count": 3,
   "outputs": [
    {
     "name": "stdout",
     "output_type": "stream",
     "text": [
      "171\n"
     ]
    }
   ],
   "source": [
    "# Data の分割\n",
    "from sklearn.model_selection import train_test_split\n",
    "\n",
    "X = df[['mean radius', 'mean texture']]\n",
    "y = df['y']\n",
    "X_train, X_test, y_train, y_test = train_test_split(X, y, test_size=0.3, random_state=0)\n",
    "\n",
    "print(len(X_test))"
   ],
   "metadata": {
    "collapsed": false
   }
  },
  {
   "cell_type": "code",
   "execution_count": 4,
   "outputs": [],
   "source": [
    "# Random-Forest の構築および予測値の算出\n",
    "from sklearn.ensemble import RandomForestClassifier\n",
    "\n",
    "rf_cls = RandomForestClassifier(max_depth=3, random_state=0).fit(X_train, y_train)\n",
    "\n",
    "y_train_pred = rf_cls.predict(X_train)\n",
    "y_test_pred = rf_cls.predict(X_test)"
   ],
   "metadata": {
    "collapsed": false
   }
  },
  {
   "cell_type": "markdown",
   "source": [
    "### Knock72: 正解率を算出しよう\n",
    "#### 正解率\n",
    "- １番 Orthodox な指標\n",
    "- Sample の総数に対して何件予測を的中させたか示す"
   ],
   "metadata": {
    "collapsed": false
   }
  },
  {
   "cell_type": "code",
   "execution_count": 6,
   "outputs": [
    {
     "name": "stdout",
     "output_type": "stream",
     "text": [
      "訓練 Data 正解率: 0.9195979899497487\n",
      "Test Data 正解率: 0.8888888888888888\n"
     ]
    }
   ],
   "source": [
    "# 正解率の算出\n",
    "from sklearn.metrics import accuracy_score\n",
    "\n",
    "print(f\"訓練 Data 正解率: {accuracy_score(y_train, y_train_pred)}\")\n",
    "print(f\"Test Data 正解率: {accuracy_score(y_test, y_test_pred)}\")"
   ],
   "metadata": {
    "collapsed": false
   }
  },
  {
   "cell_type": "markdown",
   "source": [
    "正解率は、あまり過信してはいけない。\n",
    "- Category 毎の予測精度までは見ることができない。\n",
    "- Sample Data の偏りが大きい不均衡Data を扱っている場合は特に注意が必要。"
   ],
   "metadata": {
    "collapsed": false
   }
  },
  {
   "cell_type": "code",
   "execution_count": null,
   "outputs": [],
   "source": [],
   "metadata": {
    "collapsed": false
   }
  }
 ],
 "metadata": {
  "kernelspec": {
   "display_name": "Python 3",
   "language": "python",
   "name": "python3"
  },
  "language_info": {
   "codemirror_mode": {
    "name": "ipython",
    "version": 2
   },
   "file_extension": ".py",
   "mimetype": "text/x-python",
   "name": "python",
   "nbconvert_exporter": "python",
   "pygments_lexer": "ipython2",
   "version": "2.7.6"
  }
 },
 "nbformat": 4,
 "nbformat_minor": 0
}
