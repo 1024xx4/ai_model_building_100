{
 "cells": [
  {
   "cell_type": "markdown",
   "source": [
    "# Knock71: 評価対象の Model を用意しよう"
   ],
   "metadata": {
    "collapsed": false
   }
  },
  {
   "cell_type": "code",
   "execution_count": 2,
   "outputs": [],
   "source": [
    "# Data の読み込み\n",
    "from sklearn.datasets import load_breast_cancer\n",
    "\n",
    "load_data = load_breast_cancer()\n",
    "\n",
    "import pandas as pd\n",
    "\n",
    "df = pd.DataFrame(load_data.data, columns=load_data.feature_names)\n",
    "df['y'] = load_data.target"
   ],
   "metadata": {
    "collapsed": false
   }
  },
  {
   "cell_type": "code",
   "execution_count": 3,
   "outputs": [
    {
     "name": "stdout",
     "output_type": "stream",
     "text": [
      "171\n"
     ]
    }
   ],
   "source": [
    "# Data の分割\n",
    "from sklearn.model_selection import train_test_split\n",
    "\n",
    "X = df[['mean radius', 'mean texture']]\n",
    "y = df['y']\n",
    "X_train, X_test, y_train, y_test = train_test_split(X, y, test_size=0.3, random_state=0)\n",
    "\n",
    "print(len(X_test))"
   ],
   "metadata": {
    "collapsed": false
   }
  },
  {
   "cell_type": "code",
   "execution_count": 4,
   "outputs": [],
   "source": [
    "# Random-Forest の構築および予測値の算出\n",
    "from sklearn.ensemble import RandomForestClassifier\n",
    "\n",
    "rf_cls = RandomForestClassifier(max_depth=3, random_state=0).fit(X_train, y_train)\n",
    "\n",
    "y_train_pred = rf_cls.predict(X_train)\n",
    "y_test_pred = rf_cls.predict(X_test)"
   ],
   "metadata": {
    "collapsed": false
   }
  },
  {
   "cell_type": "markdown",
   "source": [
    "### Knock72: 正解率を算出しよう\n",
    "#### 正解率\n",
    "- １番 Orthodox な指標\n",
    "- Sample の総数に対して何件予測を的中させたか示す"
   ],
   "metadata": {
    "collapsed": false
   }
  },
  {
   "cell_type": "code",
   "execution_count": 6,
   "outputs": [
    {
     "name": "stdout",
     "output_type": "stream",
     "text": [
      "訓練 Data 正解率: 0.9195979899497487\n",
      "Test Data 正解率: 0.8888888888888888\n"
     ]
    }
   ],
   "source": [
    "# 正解率の算出\n",
    "from sklearn.metrics import accuracy_score\n",
    "\n",
    "print(f\"訓練 Data 正解率: {accuracy_score(y_train, y_train_pred)}\")\n",
    "print(f\"Test Data 正解率: {accuracy_score(y_test, y_test_pred)}\")"
   ],
   "metadata": {
    "collapsed": false
   }
  },
  {
   "cell_type": "markdown",
   "source": [
    "正解率は、あまり過信してはいけない。\n",
    "- Category 毎の予測精度までは見ることができない。\n",
    "- Sample Data の偏りが大きい不均衡Data を扱っている場合は特に注意が必要。"
   ],
   "metadata": {
    "collapsed": false
   }
  },
  {
   "cell_type": "markdown",
   "source": [
    "### Knock73: 混同行列を見てみよう\n",
    "#### 混同行列\n",
    "**真陽性・偽陽性・真陰性・偽陰性** のそれぞれの Sample件数を Matrix表で可視化する。\n",
    "個別の Category ごとの予測精度を俯瞰して見ることができ、どの部分での予測が弱いのか等も含め、直感的に把握できる。\n",
    "多値分類でも使用することができ、Category数が多くなればなるほど、視覚に訴える混同行列の Merit を享受できる。\n",
    "> - 真陽性（TP: True Positive）･･･ 実際に陽性で正しく陽性と予測された Sample\n",
    "> - 偽陽性（FP: False Positive）･･･ 実際には陽性だが陰性と予測された Sample\n",
    "> - 真陰性（TN: True Negative）･･･ 実際に陰性で正しく陰性と予測された Sample\n",
    "> - 偽陰性（FP: False Negative）･･･ 実際には陰性だが陽性と予測された Sample"
   ],
   "metadata": {
    "collapsed": false
   }
  },
  {
   "cell_type": "code",
   "execution_count": 7,
   "outputs": [
    {
     "data": {
      "text/plain": "<Figure size 640x480 with 2 Axes>",
      "image/png": "[encoded data removed]"
     },
     "metadata": {},
     "output_type": "display_data"
    }
   ],
   "source": [
    "# 混同行列の可視化\n",
    "from sklearn.metrics import confusion_matrix\n",
    "import matplotlib.pyplot as plt\n",
    "import seaborn as sns\n",
    "\n",
    "matrix = confusion_matrix(y_test, y_test_pred)\n",
    "\n",
    "sns.heatmap(matrix.T, square=True, annot=True)\n",
    "plt.xlabel('True Label')\n",
    "plt.ylabel('Pred Label')\n",
    "plt.show()"
   ],
   "metadata": {
    "collapsed": false
   }
  },
  {
   "cell_type": "markdown",
   "source": [
    "**混同行列**\n",
    "Model の精度の概観を把握するのには役立つが、Model の改善や、Model の構築目的に合った評価を行なうには、混同行列で算出した結果を別の方法で解釈する必要性がある。"
   ],
   "metadata": {
    "collapsed": false
   }
  },
  {
   "cell_type": "markdown",
   "source": [
    "### Knock74: 適合率を算出しよう\n",
    "#### 適合率\n",
    "Model が「どれだけ正確に予測できているか」を示す指標。\n",
    "\n",
    "*適合率 = 正しく陽性と予測できた Sample数 / 陽性と予測した Sample数 = TP / TP + FP*\n",
    "\n",
    "数式の分母より、偽陽性件数を減らすことが適合率の向上につながることを意味する。"
   ],
   "metadata": {
    "collapsed": false
   }
  },
  {
   "cell_type": "code",
   "execution_count": 9,
   "outputs": [
    {
     "name": "stdout",
     "output_type": "stream",
     "text": [
      "訓練 Data 適合率: 0.9534883720930233\n",
      "Test Data 適合率: 0.8793103448275862\n"
     ]
    }
   ],
   "source": [
    "# 適合率の算出\n",
    "from sklearn.metrics import precision_score\n",
    "\n",
    "print(f\"訓練 Data 適合率: {precision_score(y_train, y_train_pred, pos_label=0)}\")\n",
    "print(f\"Test Data 適合率: {precision_score(y_test, y_test_pred, pos_label=0)}\")\n",
    "# pos_label= : 陽性Label を指定する引数"
   ],
   "metadata": {
    "collapsed": false
   }
  },
  {
   "cell_type": "markdown",
   "source": [
    "適合率を用いた Model の評価は、**再現率**を併用して行なわれる。"
   ],
   "metadata": {
    "collapsed": false
   }
  },
  {
   "cell_type": "markdown",
   "source": [
    "### Knock75: 再現率を算出しよう\n",
    "#### 再現率\n",
    "Model が「どれだけ網羅的に予測できているか」を示す指標。\n",
    "\n",
    "*再現率 = 正しく陽性と予測できた Sample数 / 実際に陽性である Sample数 = TP / TP + FN*\n",
    "\n",
    "数式の分母から、偽陽性の件数は考慮されていないことが分かる。\n",
    "多少、偽陽性が増えても多くの真陽性を検出したい、ということであれば再現率を重視した方が良い。\n",
    "再現率と適合率は trade-off の関係になる。"
   ],
   "metadata": {
    "collapsed": false
   }
  },
  {
   "cell_type": "code",
   "execution_count": 10,
   "outputs": [
    {
     "name": "stdout",
     "output_type": "stream",
     "text": [
      "訓練 Data 再現率: 0.825503355704698\n",
      "Test Data 再現率: 0.8095238095238095\n"
     ]
    }
   ],
   "source": [
    "# 再現率の算出\n",
    "from sklearn.metrics import recall_score\n",
    "\n",
    "print(f\"訓練 Data 再現率: {recall_score(y_train, y_train_pred, pos_label=0)}\")\n",
    "print(f\"Test Data 再現率: {recall_score(y_test, y_test_pred, pos_label=0)}\")"
   ],
   "metadata": {
    "collapsed": false
   }
  },
  {
   "cell_type": "markdown",
   "source": [
    "適合率と再現率はそれぞれ異なった特徴を持っているため、それぞれの指標を個別に見ても、Model としての精度の全体像が見えにくい。この問題を解消するために使用されるのが **F1値**。"
   ],
   "metadata": {
    "collapsed": false
   }
  },
  {
   "cell_type": "markdown",
   "source": [
    "### Knock76: F1値を算出しよう\n",
    "#### F1値\n",
    "適合率と再現率の双方の Balance を考慮した指標。適合率と再現率の調和平均をとったもの。\n",
    "\n",
    "*F1値 = 2 * (適合率 * 再現率 / (適合率 + 再現率))*"
   ],
   "metadata": {
    "collapsed": false
   }
  },
  {
   "cell_type": "code",
   "execution_count": 11,
   "outputs": [
    {
     "name": "stdout",
     "output_type": "stream",
     "text": [
      "訓練 Data F1値: 0.8848920863309353\n",
      "Test Data F1値: 0.8429752066115702\n"
     ]
    }
   ],
   "source": [
    "# F1値の算出\n",
    "from sklearn.metrics import f1_score\n",
    "\n",
    "print(f\"訓練 Data F1値: {f1_score(y_train, y_train_pred, pos_label=0)}\")\n",
    "print(f\"Test Data F1値: {f1_score(y_test, y_test_pred, pos_label=0)}\")"
   ],
   "metadata": {
    "collapsed": false
   }
  },
  {
   "cell_type": "markdown",
   "source": [
    "F1値は、その特徴から、分類Model の総合的な評価指標として使用されることが多い。\n",
    "実際の運用で使える Model かどうか測るためには F1値だけでなく、適合率や再現率などの個別の指標にも目を向ける必要がある。"
   ],
   "metadata": {
    "collapsed": false
   }
  },
  {
   "cell_type": "code",
   "execution_count": null,
   "outputs": [],
   "source": [],
   "metadata": {
    "collapsed": false
   }
  }
 ],
 "metadata": {
  "kernelspec": {
   "display_name": "Python 3",
   "language": "python",
   "name": "python3"
  },
  "language_info": {
   "codemirror_mode": {
    "name": "ipython",
    "version": 2
   },
   "file_extension": ".py",
   "mimetype": "text/x-python",
   "name": "python",
   "nbconvert_exporter": "python",
   "pygments_lexer": "ipython2",
   "version": "2.7.6"
  }
 },
 "nbformat": 4,
 "nbformat_minor": 0
}
